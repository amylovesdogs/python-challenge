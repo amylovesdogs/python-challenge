{
 "cells": [
  {
   "cell_type": "code",
   "execution_count": 17,
   "id": "58f07fe1",
   "metadata": {},
   "outputs": [],
   "source": [
    "import os\n",
    "import sys\n",
    "import pandas as pd\n",
    "import numpy as np\n",
    "import locale\n",
    "locale.setlocale(locale.LC_ALL, '')\n",
    "\n",
    "# Generate a financial report to the output device passed as a parameter.\n",
    "# It could be a file or the stdout (the terminal).\n",
    "# Use the report dictionary passed as a parameter to provide the report data.\n",
    "def generate_report(output_dev, report_dict):\n",
    "    output_dev.write(\"Financial Analysis\\n------------------ \\n\")\n",
    "    output_dev.write(\"Total Months: \" + str(report_dict[\"Total Months\"]) + \"\\n\")\n",
    "    output_dev.write(\"Total: \" + locale.currency(report_dict[\"Total\"], grouping=True) + \"\\n\")\n",
    "    output_dev.write(\"Average Change: \" + locale.currency(report_dict[\"Average Change\"], grouping=True) + \"\\n\")\n",
    "    output_dev.write(\"Greatest Increase in Profits: \" + report_dict[\"Max Increase\"][0] + \" (\" + locale.currency(report_dict[\"Max Increase\"][1], grouping=True) + \")\\n\")\n",
    "    output_dev.write(\"Greatest Decrease in Profits: \" + report_dict[\"Max Decrease\"][0] + \" (\" + locale.currency(report_dict[\"Max Decrease\"][1], grouping=True) + \")\\n\")\n",
    "\n",
    "# get the data and load it into a data frame\n",
    "my_dir = os.getcwd()\n",
    "data_file = os.path.join(my_dir, \"Resources/budget_data.csv\")\n",
    "\n",
    "bank_df = pd.read_csv(data_file, encoding=\"utf-8\")\n",
    "\n",
    "\n",
    "# create a monthly change column in the bank dataframe\n",
    "delta = np.array([float(\"nan\")])\n",
    "delta_max = 0\n",
    "delta_min = 0\n",
    "for i in range(1,len(bank_df)):\n",
    "    delta = np.append(delta, (bank_df[\"Profit/Losses\"][i] - bank_df[\"Profit/Losses\"][i-1]))\n",
    "bank_df[\"Monthly Change\"] = delta.tolist()\n",
    "\n",
    "\n",
    "# generate summary data\n",
    "summary = dict()\n",
    "length = len(bank_df[\"Date\"])\n",
    "summary[\"Total Months\"] = length\n",
    "summary[\"Total\"] = bank_df[\"Profit/Losses\"].sum()\n",
    "summary[\"Average Change\"] = bank_df[\"Monthly Change\"].loc[1:length-1].mean()\n",
    "# find the monthly change max and min, as well as the month associated with those deltas\n",
    "delta_max = bank_df[\"Monthly Change\"].max()\n",
    "delta_min = bank_df[\"Monthly Change\"].min()\n",
    "month_max = bank_df[\"Date\"][pd.Index(bank_df[\"Monthly Change\"]).get_loc(delta_max)]\n",
    "month_min = bank_df[\"Date\"][pd.Index(bank_df[\"Monthly Change\"]).get_loc(delta_min)]\n",
    "summary[\"Max Increase\"] = [month_max, delta_max]\n",
    "summary[\"Max Decrease\"] = [month_min, delta_min]\n",
    "\n",
    "# write report to the terminal\n",
    "generate_report(sys.stdout, summary)\n",
    "\n",
    "# write report to an output file\n",
    "output_file = os.path.join(my_dir, \"analysis/summary.txt\")\n",
    "with open(output_file, \"w\") as f:\n",
    "    generate_report(f, summary)\n",
    "    f.close()"
   ]
  },
  {
   "cell_type": "code",
   "execution_count": 18,
   "id": "de45acb0",
   "metadata": {},
   "outputs": [
    {
     "data": {
      "text/html": [
       "<div>\n",
       "<style scoped>\n",
       "    .dataframe tbody tr th:only-of-type {\n",
       "        vertical-align: middle;\n",
       "    }\n",
       "\n",
       "    .dataframe tbody tr th {\n",
       "        vertical-align: top;\n",
       "    }\n",
       "\n",
       "    .dataframe thead th {\n",
       "        text-align: right;\n",
       "    }\n",
       "</style>\n",
       "<table border=\"1\" class=\"dataframe\">\n",
       "  <thead>\n",
       "    <tr style=\"text-align: right;\">\n",
       "      <th></th>\n",
       "      <th>Date</th>\n",
       "      <th>Profit/Losses</th>\n",
       "      <th>Monthly Change</th>\n",
       "    </tr>\n",
       "  </thead>\n",
       "  <tbody>\n",
       "    <tr>\n",
       "      <th>79</th>\n",
       "      <td>Aug-16</td>\n",
       "      <td>951227</td>\n",
       "      <td>1862002.0</td>\n",
       "    </tr>\n",
       "  </tbody>\n",
       "</table>\n",
       "</div>"
      ],
      "text/plain": [
       "      Date  Profit/Losses  Monthly Change\n",
       "79  Aug-16         951227       1862002.0"
      ]
     },
     "execution_count": 18,
     "metadata": {},
     "output_type": "execute_result"
    }
   ],
   "source": [
    "bank_df.iloc[[79]]"
   ]
  },
  {
   "cell_type": "code",
   "execution_count": 19,
   "id": "7e79543b",
   "metadata": {},
   "outputs": [
    {
     "name": "stdout",
     "output_type": "stream",
     "text": [
      "Financial Analysis\n",
      "------------------ \n",
      "Total Months: 86\n",
      "Total: $22,564,198.00\n",
      "Average Change: -$8,311.11\n",
      "Greatest Increase in Profits: Aug-16 ($1,862,002.00)\n",
      "Greatest Decrease in Profits: Feb-14 (-$1,825,558.00)\n"
     ]
    }
   ],
   "source": [
    "\n",
    "\n"
   ]
  },
  {
   "cell_type": "code",
   "execution_count": null,
   "id": "8aa0b5a3",
   "metadata": {},
   "outputs": [],
   "source": []
  }
 ],
 "metadata": {
  "kernelspec": {
   "display_name": "Python 3 (ipykernel)",
   "language": "python",
   "name": "python3"
  },
  "language_info": {
   "codemirror_mode": {
    "name": "ipython",
    "version": 3
   },
   "file_extension": ".py",
   "mimetype": "text/x-python",
   "name": "python",
   "nbconvert_exporter": "python",
   "pygments_lexer": "ipython3",
   "version": "3.9.13"
  }
 },
 "nbformat": 4,
 "nbformat_minor": 5
}
